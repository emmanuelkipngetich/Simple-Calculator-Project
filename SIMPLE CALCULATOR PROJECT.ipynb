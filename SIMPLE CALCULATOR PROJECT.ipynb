{
 "cells": [
  {
   "cell_type": "markdown",
   "id": "53ebec65",
   "metadata": {},
   "source": [
    "# SIMPLE CALCULATOR PROJECT\n",
    "\n"
   ]
  },
  {
   "cell_type": "code",
   "execution_count": null,
   "id": "452732e2",
   "metadata": {},
   "outputs": [],
   "source": [
    "#Ask for two numbers \n",
    "#Apply an operation\n",
    "\n",
    "print(\"My python calculator!\")\n",
    "\n",
    "first_number = float(input(\"Please enter your first number\"))\n",
    "second_number = float(input(\"Please enter your second number\"))\n",
    "\n",
    "print(\"Enter 'a' for addition\")\n",
    "print(\"Enter 'b' for subtraction\")\n",
    "print(\"Enter 'c' for multiplication\")\n",
    "print(\"Enter 'd' for division\")\n",
    "print(\"Enter 'q' to quit\")\n",
    "\n",
    "operation = input(\"Please enter operation: \").lower()\n",
    "\n",
    "if operation == \"a\":\n",
    "    answer = first_number + second_number\n",
    "    print(answer)\n",
    "elif operation == \"b\":\n",
    "    answer = first_number - second_number\n",
    "    print(answer)\n",
    "elif operation == \"c\":\n",
    "    answer =  first_number * second_number\n",
    "    print(answer)\n",
    "elif operation == \"d\":\n",
    "    if second_number != 0:\n",
    "        answer = first_number / second_number\n",
    "        print(answer)\n",
    "    else:\n",
    "        print(\"Can't divide by 0\")\n",
    "else:\n",
    "    answer = \"Quit\"\n",
    "    print(answer)\n",
    "\n",
    "\n"
   ]
  }
 ],
 "metadata": {
  "kernelspec": {
   "display_name": "Python 3 (ipykernel)",
   "language": "python",
   "name": "python3"
  },
  "language_info": {
   "codemirror_mode": {
    "name": "ipython",
    "version": 3
   },
   "file_extension": ".py",
   "mimetype": "text/x-python",
   "name": "python",
   "nbconvert_exporter": "python",
   "pygments_lexer": "ipython3",
   "version": "3.9.12"
  }
 },
 "nbformat": 4,
 "nbformat_minor": 5
}
